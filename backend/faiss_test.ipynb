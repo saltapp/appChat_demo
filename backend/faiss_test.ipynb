{
 "cells": [
  {
   "cell_type": "code",
   "execution_count": 26,
   "metadata": {},
   "outputs": [],
   "source": [
    "from langchain_text_splitters import RecursiveCharacterTextSplitter\n",
    "from langchain.document_loaders import TextLoader\n",
    "\n",
    "byd_file_path = r\"D:\\appChat_demo\\backend\\data\\docs\\byd.txt\"\n",
    "\n",
    "tesla_file_path = r\"D:\\appChat_demo\\backend\\data\\docs\\tesla.txt\"\n",
    "\n",
    "def make_docs(file_path):\n",
    "    loader = TextLoader(file_path, autodetect_encoding=True)\n",
    "\n",
    "    data = loader.load()\n",
    "\n",
    "    text_splitter = RecursiveCharacterTextSplitter(\n",
    "            chunk_size=500,\n",
    "            chunk_overlap=100,\n",
    "            add_start_index=True,\n",
    "        )\n",
    "\n",
    "    return text_splitter.split_documents(data)\n",
    "\n",
    "\n",
    "byd_docs = make_docs(byd_file_path)\n",
    "\n",
    "tesla_docs = make_docs(tesla_file_path)"
   ]
  },
  {
   "cell_type": "code",
   "execution_count": 27,
   "metadata": {},
   "outputs": [],
   "source": [
    "for doc in tesla_docs:\n",
    "    doc.metadata['tags'] = ['tesla', 'usa'] \n",
    "\n",
    "for doc in byd_docs:\n",
    "    doc.metadata['tags'] = ['byd', 'china'] "
   ]
  },
  {
   "cell_type": "code",
   "execution_count": 35,
   "metadata": {},
   "outputs": [],
   "source": [
    "byd_metadata = [doc.metadata for doc in byd_docs]\n",
    "\n",
    "byd_texts = [doc.page_content for doc in byd_docs]\n",
    "\n",
    "tesla_metadata = [doc.metadata for doc in tesla_docs]\n",
    "\n",
    "tesla_texts = [doc.page_content for doc in tesla_docs]"
   ]
  },
  {
   "cell_type": "code",
   "execution_count": 42,
   "metadata": {},
   "outputs": [],
   "source": [
    "import dotenv\n",
    "dotenv.load_dotenv(dotenv.find_dotenv())\n",
    "\n",
    "\n",
    "from langchain.vectorstores import FAISS\n",
    "from langchain_openai import OpenAIEmbeddings\n",
    "import numpy as np\n",
    "import os\n",
    "\n",
    "# 初始化向量数据库\n",
    "embedding = OpenAIEmbeddings()  # 使用 OpenAI 的 Embedding 服务\n",
    "\n",
    "PATH=r\"D:\\appChat_demo\\backend\\data\\docs\\faiss\"\n",
    "\n",
    "vectorstore = FAISS.from_documents(\n",
    "    documents=byd_docs,\n",
    "    embedding=embedding,\n",
    ")\n",
    "\n",
    "\n",
    "\n",
    "# # 保存向量数据库到磁盘\n",
    "vectorstore.save_local(PATH)\n",
    "\n"
   ]
  },
  {
   "cell_type": "code",
   "execution_count": 43,
   "metadata": {},
   "outputs": [],
   "source": [
    "# load existing vecdb : load_local\n",
    "\n",
    "loaded_vectorstore = FAISS.load_local(PATH, embedding, allow_dangerous_deserialization=True)\n",
    "\n",
    "docs_vertor_index = loaded_vectorstore.add_documents(tesla_docs)"
   ]
  },
  {
   "cell_type": "code",
   "execution_count": 44,
   "metadata": {},
   "outputs": [
    {
     "data": {
      "text/plain": [
       "['238d76cb-d9c7-4801-8ee0-408a13fbb4a3',\n",
       " 'f6e8eaba-0779-47d7-8d6e-24046f325457',\n",
       " 'c2a0b647-c43d-492d-85b9-7d22b9bb2a4d',\n",
       " '4d10b06f-0da8-426f-a8cb-912f98317524',\n",
       " 'a3076411-3714-40e8-9274-6e86661fa7b0',\n",
       " 'facd4074-3e3e-4410-abae-8884acd212ee',\n",
       " '4d7f28b3-0a3c-4b4a-a02f-f29f6cbf1417',\n",
       " '6180ac48-2ffc-4ffe-b3c4-06d4d97375e0',\n",
       " '62a76449-9258-4f9a-a529-9985613eab9b',\n",
       " 'eb6ad10b-009a-4e66-99c7-4b7eafd09b20',\n",
       " '0f1fd469-a15e-4ad8-b70c-320fccb9d66b',\n",
       " 'b5e76c28-6d1d-47ec-a74c-175d6a928264',\n",
       " '66ab644d-2c21-40f0-b463-b8b9e6dc3596',\n",
       " 'e41304ec-223f-49dd-9bea-d6d2ed4596f9',\n",
       " 'eb78ee9d-b9f6-44e6-9f9b-df66abee57a1',\n",
       " 'e768f3ba-8904-48bd-97a0-221d8fa0016e',\n",
       " '31b62bdc-470a-4013-8950-1e50b0bad58d',\n",
       " '66d81f79-0970-4141-b7a8-38ca3e5ed88c',\n",
       " '690bf472-8d5d-411e-8b42-757842ad8520',\n",
       " 'aacc34f8-9ba1-40c7-8fcf-1e66bc8e73aa',\n",
       " 'e6dd26ef-ea14-4cb0-8909-6ea684df3caf',\n",
       " 'e1a3bc63-9b50-4aaf-87b3-c9802effd83e',\n",
       " '57b8b6c0-373a-40c3-a9e5-da7a688603f1',\n",
       " '9711b184-8340-4915-8330-7c17da485ad2',\n",
       " '9fff7bed-b1aa-410f-9f55-3ad88e7dc266',\n",
       " '7c5a1f36-a63b-4c1e-808a-d9cb318004fa',\n",
       " '1fe1f6fd-2d83-4b71-95cf-7565d0881109',\n",
       " 'c88dfacb-581a-49f8-95a5-7f0e3397d06f',\n",
       " '0f8967a9-ff25-4629-a19e-56f40885fae0',\n",
       " '4b605390-ebaf-43e7-8b81-8d5b1da1a615',\n",
       " '94185f8f-c0e3-4b79-b68f-dd7ede83e016',\n",
       " 'dd780cee-313c-4a45-8044-f2fdd48a65e8',\n",
       " '2dc4bbf2-7d07-49a8-9fd2-bd1a9cd9a5c5',\n",
       " '88ef2dd6-d714-477c-8d52-6159b2c429be',\n",
       " '9f884bce-b330-48bb-8c4c-ad59935b34c6']"
      ]
     },
     "execution_count": 44,
     "metadata": {},
     "output_type": "execute_result"
    }
   ],
   "source": [
    "loaded_vectorstore.add_documents(tesla_docs)"
   ]
  },
  {
   "cell_type": "code",
   "execution_count": 45,
   "metadata": {},
   "outputs": [],
   "source": [
    "loaded_vectorstore.save_local(PATH)"
   ]
  },
  {
   "cell_type": "code",
   "execution_count": 46,
   "metadata": {},
   "outputs": [],
   "source": [
    "# 加载之前保存的向量数据库\n",
    "loaded_vectorstore = FAISS.load_local(PATH, embedding, allow_dangerous_deserialization=True)"
   ]
  },
  {
   "cell_type": "code",
   "execution_count": 68,
   "metadata": {},
   "outputs": [
    {
     "name": "stdout",
     "output_type": "stream",
     "text": [
      "Content: Founding (2003–2004)\n",
      "The company was incorporated as Tesla Motors, Inc. on July 1, 2003, by Martin Eberhard and Marc Tarpenning.[10][11] They served as chief executive officer and chief financial officer, respectively.[12] Eberhard said that he wanted to build \"a car manufacturer that is also a technology company\", with its core technologies as \"the battery, the computer software, and the proprietary motor\".[13], Metadata: {'source': 'D:\\\\appChat_demo\\\\backend\\\\data\\\\docs\\\\tesla.txt', 'start_index': 0, 'tags': ['tesla', 'usa']}, Score: 0.3647381067276001\n",
      "Content: Roadster (2005–2009)\n",
      "Main article: Tesla Roadster (first generation)\n",
      "Elon Musk took an active role within the company, but was not deeply involved in day-to-day business operations.[18] The company's strategy was to start with a premium sports car aimed at early adopters and then move into more mainstream vehicles, including sedans and affordable compacts.[19], Metadata: {'source': 'D:\\\\appChat_demo\\\\backend\\\\data\\\\docs\\\\tesla.txt', 'start_index': 1112, 'tags': ['tesla', 'usa']}, Score: 0.37577927112579346\n",
      "Content: and the largest shareholder of Tesla.[14][15][12] J. B. Straubel joined Tesla in May 2004 as chief technical officer.[16], Metadata: {'source': 'D:\\\\appChat_demo\\\\backend\\\\data\\\\docs\\\\tesla.txt', 'start_index': 812, 'tags': ['tesla', 'usa']}, Score: 0.3911663889884949\n",
      "Content: In October 2010, Tesla opened the Tesla Factory to start production of the Model S.[36] In January 2012, Tesla ceased production of the Roadster, and in June 2012 the company launched its second car, the Model S luxury sedan.[37] The Model S won several automotive awards during 2012 and 2013, including the 2013 Motor Trend Car of the Year,[38] and became the first electric car to top the monthly sales ranking of a country, when it topped the Norwegian new car sales list in September 2013.[39], Metadata: {'source': 'D:\\\\appChat_demo\\\\backend\\\\data\\\\docs\\\\tesla.txt', 'start_index': 3825, 'tags': ['tesla', 'usa']}, Score: 0.40666788816452026\n",
      "Content: were not informed.[49] In February 2017, Tesla Motors changed its name to Tesla, Inc. to better reflect the scope of its expanded business.[50], Metadata: {'source': 'D:\\\\appChat_demo\\\\backend\\\\data\\\\docs\\\\tesla.txt', 'start_index': 5523, 'tags': ['tesla', 'usa']}, Score: 0.41041189432144165\n"
     ]
    }
   ],
   "source": [
    "# metadata filtering\n",
    "\n",
    "query_text = \"what is tesla\"\n",
    "docs = loaded_vectorstore.similarity_search_with_score(query_text, k=5, filter=lambda x: \"tesla\" in x[\"tags\"])\n",
    "\n",
    "# 输出结果\n",
    "for doc, score in docs:\n",
    "    print(f\"Content: {doc.page_content}, Metadata: {doc.metadata}, Score: {score}\")"
   ]
  },
  {
   "cell_type": "code",
   "execution_count": 72,
   "metadata": {},
   "outputs": [
    {
     "data": {
      "text/plain": [
       "langchain_community.vectorstores.faiss.FAISS"
      ]
     },
     "execution_count": 72,
     "metadata": {},
     "output_type": "execute_result"
    }
   ],
   "source": [
    "from langchain_chroma import Chroma\n",
    "from langchain_community.vectorstores import FAISS\n",
    "from langchain_openai import OpenAIEmbeddings\n",
    "\n",
    "# 初始化向量数据库\n",
    "embedding = OpenAIEmbeddings()\n",
    "\n",
    "chroma_persist_directory = r'D:\\appChat_demo\\backend\\data\\vector_db'\n",
    "vectordb = Chroma(persist_directory=chroma_persist_directory, embedding_function=embedding)\n",
    "\n",
    "# query_text = \"what is tesla\"\n",
    "# docs = vectordb.similarity_search_with_score(query_text, k=5)\n",
    "\n",
    "# # 输出结果\n",
    "# for doc, score in docs:\n",
    "#     print(f\"Content: {doc.page_content}, Metadata: {doc.metadata}, Score: {score}\")\n",
    "\n",
    "loaded_vectorstore.__class__"
   ]
  }
 ],
 "metadata": {
  "kernelspec": {
   "display_name": "openWebUiDemo",
   "language": "python",
   "name": "python3"
  },
  "language_info": {
   "codemirror_mode": {
    "name": "ipython",
    "version": 3
   },
   "file_extension": ".py",
   "mimetype": "text/x-python",
   "name": "python",
   "nbconvert_exporter": "python",
   "pygments_lexer": "ipython3",
   "version": "3.11.9"
  }
 },
 "nbformat": 4,
 "nbformat_minor": 2
}
