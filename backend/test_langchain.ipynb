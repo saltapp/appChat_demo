{
 "cells": [
  {
   "cell_type": "code",
   "execution_count": 1,
   "metadata": {},
   "outputs": [],
   "source": [
    "from dotenv import load_dotenv\n",
    "\n",
    "load_dotenv()\n",
    "\n",
    "from langchain_openai import ChatOpenAI\n",
    "\n",
    "llm = ChatOpenAI(model=\"gpt-4o-mini\")"
   ]
  },
  {
   "cell_type": "code",
   "execution_count": 2,
   "metadata": {},
   "outputs": [
    {
     "data": {
      "text/plain": [
       "AIMessage(content='嗨！', additional_kwargs={'refusal': None}, response_metadata={'token_usage': {'completion_tokens': 4, 'prompt_tokens': 20, 'total_tokens': 24}, 'model_name': 'gpt-3.5-turbo', 'system_fingerprint': None, 'finish_reason': 'stop', 'logprobs': None}, id='run-beae1f49-2875-4d34-aaa6-f2ebd0b924ca-0', usage_metadata={'input_tokens': 20, 'output_tokens': 4, 'total_tokens': 24})"
      ]
     },
     "execution_count": 2,
     "metadata": {},
     "output_type": "execute_result"
    }
   ],
   "source": [
    "from langchain_core.messages import HumanMessage, SystemMessage\n",
    "\n",
    "messages = [\n",
    "    SystemMessage(content=\"Translate the following from English into Chinese\"),\n",
    "    HumanMessage(content=\"hi!\"),\n",
    "]\n",
    "\n",
    "llm.invoke(messages)"
   ]
  },
  {
   "cell_type": "code",
   "execution_count": 3,
   "metadata": {},
   "outputs": [
    {
     "name": "stderr",
     "output_type": "stream",
     "text": [
      "WARNING:root:Frontend favicon not found at D:\\appChat_demo\\build\\favicon.png\n",
      "INFO:config:Embedding model set: text-embedding-3-small\n"
     ]
    },
    {
     "name": "stdout",
     "output_type": "stream",
     "text": [
      "d:\\appChat_demo\n"
     ]
    }
   ],
   "source": [
    "import chromadb\n",
    "from chromadb import Settings\n",
    "\n",
    "from langchain_community.vectorstores import Chroma\n",
    "from langchain_openai import OpenAIEmbeddings\n",
    "\n",
    "from config import CHROMA_DATA_PATH,CHROMA_TENANT, CHROMA_DATABASE\n",
    "\n",
    "CHROMA_CLIENT = chromadb.PersistentClient(\n",
    "        path=CHROMA_DATA_PATH,\n",
    "        settings=Settings(allow_reset=True, anonymized_telemetry=False),\n",
    "        tenant=CHROMA_TENANT,\n",
    "        database=CHROMA_DATABASE,\n",
    "    )\n",
    "\n",
    "collection_name = \"c1b6bfaae0e0a5cadf2eb1fc0928739ee7bb60fd96170a7f839a2fcb0738ecd\"\n",
    "# Create LangChain Chroma instance\n",
    "langchain_chroma = Chroma(\n",
    "    client=CHROMA_CLIENT,\n",
    "    collection_name=collection_name,\n",
    "    embedding_function=OpenAIEmbeddings(),  # Replace with your preferred embedding function\n",
    ")"
   ]
  },
  {
   "cell_type": "code",
   "execution_count": 4,
   "metadata": {},
   "outputs": [
    {
     "name": "stdout",
     "output_type": "stream",
     "text": [
      "{'ids': ['d9809c1e-c1ec-48c5-a17f-2500fe5c1272'], 'embeddings': None, 'metadatas': [{'source': 'D:\\\\appChat_demo\\\\backend\\\\data\\\\docs\\\\tesla.txt', 'start_index': 0}], 'documents': ['Tesla Motors is an American electric sports car manufacturer based in Silicon Valley, California and founded by former CEO Martin Eberhard. Their first production vehicle, the Tesla Roadster, is a performance sports car. According to the company, the car has a range of 200 miles, acceleration from 0 to 60 mph in 4 seconds, and a top speed of 130 mph. Prototypes were introduced to the public in July 2006, and the first production models are planned for summer 2007. Demand was high for the first \\'Signature One Hundred\\' Roadsters, which sold out in less than three weeks. According to a note on the company\\'s web site, as of November 2006 the full run of the \"2007 1/2\" model have been sold out, constituting 220+ cars. The company also planned to offer home roof mounted solar-photovoltaic systems that will offset power used by the home charger, allowing 50 miles (80 kilometers) of travel without burdening the power grid, and thus making the package \"energy positive\" for a driver whose average daily mileage is less than that.'], 'uris': None, 'data': None}\n"
     ]
    }
   ],
   "source": [
    "documents = langchain_chroma.get()\n",
    "\n",
    "# all_documents = langchain_chroma.get_all()\n",
    "\n",
    "print(documents)"
   ]
  },
  {
   "cell_type": "code",
   "execution_count": 5,
   "metadata": {},
   "outputs": [
    {
     "name": "stderr",
     "output_type": "stream",
     "text": [
      "WARNING:chromadb.segment.impl.vector.local_persistent_hnsw:Number of requested results 4 is greater than number of elements in index 1, updating n_results = 1\n"
     ]
    }
   ],
   "source": [
    "from langchain import hub\n",
    "from langchain_core.output_parsers import StrOutputParser\n",
    "from langchain_core.runnables import RunnablePassthrough\n",
    "\n",
    "retriever = langchain_chroma.as_retriever()\n",
    "\n",
    "prompt = hub.pull(\"rlm/rag-prompt\")\n",
    "\n",
    "query = \"summarize the content in 20 words\"\n",
    "\n",
    "\n",
    "def format_docs(docs):\n",
    "    return \"\\n\\n\".join(doc.page_content for doc in docs)\n",
    "\n",
    "\n",
    "rag_chain = (\n",
    "    {\"context\": retriever | format_docs, \"question\": RunnablePassthrough()}\n",
    "    | prompt\n",
    "    | llm\n",
    "    | StrOutputParser()\n",
    ")\n",
    "context = rag_chain.invoke(query)"
   ]
  },
  {
   "cell_type": "code",
   "execution_count": 6,
   "metadata": {},
   "outputs": [
    {
     "name": "stdout",
     "output_type": "stream",
     "text": [
      "Tesla Motors is an American electric sports car manufacturer known for its Tesla Roadster, which offers high performance and range. The company also planned to offer solar-photovoltaic systems for home charging, making it \"energy positive.\" The Roadster prototypes were introduced in July 2006, with the first production models planned for summer 2007.\n"
     ]
    }
   ],
   "source": [
    "print(context)"
   ]
  }
 ],
 "metadata": {
  "kernelspec": {
   "display_name": "openWebUiDemo",
   "language": "python",
   "name": "python3"
  },
  "language_info": {
   "codemirror_mode": {
    "name": "ipython",
    "version": 3
   },
   "file_extension": ".py",
   "mimetype": "text/x-python",
   "name": "python",
   "nbconvert_exporter": "python",
   "pygments_lexer": "ipython3",
   "version": "3.11.9"
  }
 },
 "nbformat": 4,
 "nbformat_minor": 2
}
