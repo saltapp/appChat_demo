{
 "cells": [
  {
   "cell_type": "code",
   "execution_count": 21,
   "metadata": {},
   "outputs": [],
   "source": [
    "import chromadb\n",
    "from chromadb import Settings\n",
    "\n",
    "from langchain_community.vectorstores import Chroma\n",
    "from langchain_openai import OpenAIEmbeddings\n",
    "\n",
    "from config import CHROMA_DATA_PATH,CHROMA_TENANT, CHROMA_DATABASE\n",
    "\n",
    "CHROMA_CLIENT = chromadb.PersistentClient(\n",
    "        path=CHROMA_DATA_PATH,\n",
    "        settings=Settings(allow_reset=True, anonymized_telemetry=False),\n",
    "        tenant=CHROMA_TENANT,\n",
    "        database=CHROMA_DATABASE,\n",
    "    )\n",
    "\n",
    "# Create LangChain Chroma instance\n",
    "langchain_chroma = Chroma(\n",
    "    client=CHROMA_CLIENT,\n",
    "    embedding_function=OpenAIEmbeddings(),\n",
    "    # collection_name=collection_name\n",
    ")\n"
   ]
  },
  {
   "cell_type": "code",
   "execution_count": 3,
   "metadata": {},
   "outputs": [],
   "source": [
    "\n",
    "from langchain_text_splitters import RecursiveCharacterTextSplitter\n",
    "from langchain.document_loaders import TextLoader\n",
    "\n",
    "file_path = r\"D:\\appChat_demo\\temp\\docs\\toyota.txt\"\n",
    "\n",
    "loader = TextLoader(file_path, autodetect_encoding=True)\n",
    "\n",
    "data = loader.load()\n",
    "\n",
    "text_splitter = RecursiveCharacterTextSplitter(\n",
    "        chunk_size=300,\n",
    "        chunk_overlap=50,\n",
    "        add_start_index=True,\n",
    "    )\n",
    "\n",
    "docs = text_splitter.split_documents(data)"
   ]
  },
  {
   "cell_type": "code",
   "execution_count": 29,
   "metadata": {},
   "outputs": [
    {
     "data": {
      "text/plain": [
       "<langchain_community.vectorstores.chroma.Chroma at 0x26d13380890>"
      ]
     },
     "execution_count": 29,
     "metadata": {},
     "output_type": "execute_result"
    }
   ],
   "source": [
    "# collection = langchain_chroma._client.create_collection(name=\"aaf720f983d2110356c6679e28a2e2423712c191dc4e384840d2a725a46b0b7\")\n",
    "langchain_chroma.from_documents(\n",
    "    documents = docs, \n",
    "    embedding=OpenAIEmbeddings(model=\"text-embedding-3-small\"),\n",
    "    collection_name = \"kkf720f983d2110356c6679e28a2e2423712c191dc4e384840d2a725a46b0b7\",\n",
    "    persist_directory=r'D:\\appChat_demo\\backend\\data\\vector_db'\n",
    ")"
   ]
  },
  {
   "cell_type": "code",
   "execution_count": 31,
   "metadata": {},
   "outputs": [
    {
     "data": {
      "text/plain": [
       "{'ids': ['0ea8be8c-83e5-4166-b440-1a123da42ce2',\n",
       "  '2bdc97df-556c-4394-a2d5-cfbbaf16f8b3',\n",
       "  '4558687c-4751-4784-956d-7ed0f7889527',\n",
       "  '47ff0b02-ac33-4558-85ba-38d3e92c9aaf',\n",
       "  '5da58646-1a4f-4746-91aa-8bb7a7467070',\n",
       "  '7cd81e1a-ef97-4dc5-9b57-99a8b006da4f',\n",
       "  '7ff26c40-8719-41e8-b8a5-6082d940cc4a',\n",
       "  '818a18f1-b388-41ad-aedf-c10f9a456175',\n",
       "  '82720561-58e4-4fe7-8d3c-fb69dd1975b2',\n",
       "  '880c34e1-1f1b-4de6-b7dd-85445a280c71',\n",
       "  'a36080b6-d853-44a6-9d9e-3455da24e3ab',\n",
       "  'e279212b-e388-43d5-8aae-11f29f775624',\n",
       "  'fbf65f22-cab3-4500-be15-3b4cdcae2d25'],\n",
       " 'embeddings': None,\n",
       " 'metadatas': [{'source': 'D:\\\\appChat_demo\\\\temp\\\\docs\\\\toyota.txt',\n",
       "   'start_index': 1319},\n",
       "  {'source': 'D:\\\\appChat_demo\\\\temp\\\\docs\\\\toyota.txt', 'start_index': 1798},\n",
       "  {'source': 'D:\\\\appChat_demo\\\\temp\\\\docs\\\\toyota.txt', 'start_index': 1564},\n",
       "  {'source': 'D:\\\\appChat_demo\\\\temp\\\\docs\\\\toyota.txt', 'start_index': 2351},\n",
       "  {'source': 'D:\\\\appChat_demo\\\\temp\\\\docs\\\\toyota.txt', 'start_index': 2047},\n",
       "  {'source': 'D:\\\\appChat_demo\\\\temp\\\\docs\\\\toyota.txt', 'start_index': 947},\n",
       "  {'source': 'D:\\\\appChat_demo\\\\temp\\\\docs\\\\toyota.txt', 'start_index': 695},\n",
       "  {'source': 'D:\\\\appChat_demo\\\\temp\\\\docs\\\\toyota.txt', 'start_index': 1069},\n",
       "  {'source': 'D:\\\\appChat_demo\\\\temp\\\\docs\\\\toyota.txt', 'start_index': 552},\n",
       "  {'source': 'D:\\\\appChat_demo\\\\temp\\\\docs\\\\toyota.txt', 'start_index': 0},\n",
       "  {'source': 'D:\\\\appChat_demo\\\\temp\\\\docs\\\\toyota.txt', 'start_index': 2291},\n",
       "  {'source': 'D:\\\\appChat_demo\\\\temp\\\\docs\\\\toyota.txt', 'start_index': 2604},\n",
       "  {'source': 'D:\\\\appChat_demo\\\\temp\\\\docs\\\\toyota.txt', 'start_index': 299}],\n",
       " 'documents': [\"funded an international expansion that allowed Toyota to grow into one of the largest automakers in the world, the largest company in Japan and the ninth-largest company in the world by revenue, as of December 2020. Toyota was the world's first automobile manufacturer to produce more than 10\",\n",
       "  'Toyota was praised for being a leader in the development and sales of more fuel-efficient hybrid electric vehicles, starting with the introduction of the original Toyota Prius in 1997. The company now sells more than 40 hybrid vehicle models around the world. More recently, the company has also',\n",
       "  'automobile manufacturer to produce more than 10 million vehicles per year, a record set in 2012, when it also reported the production of its 200 millionth vehicle. By September 2023, total production reached 300 million vehicles.[1]',\n",
       "  'As of 2024, the Toyota Motor Corporation produces vehicles under four brands: Daihatsu, Hino, Lexus and the namesake Toyota. The company also holds a 20% stake in Subaru Corporation, a 5.1% stake in Mazda, a 4.9% stake in Suzuki, a 4.6% stake in Isuzu, a 3.8% stake in Yamaha Motor Corporation, and',\n",
       "  'the world. More recently, the company has also been criticized for being slow to adopt all-electric vehicles, instead focusing on the development of hydrogen fuel cell vehicles, like the Toyota Mirai, a technology that is much costlier and has fallen far behind electric batteries in terms of',\n",
       "  'practice) that transformed the small company into a leader in the industry and was the subject of many academic studies.',\n",
       "  \"After World War II, Toyota benefited from Japan's alliance with the United States to learn from American automakers and other companies, which gave rise to The Toyota Way (a management philosophy) and the Toyota Production System (a lean manufacturing practice) that transformed the small company\",\n",
       "  \"In the 1960s, Toyota took advantage of the rapidly growing Japanese economy to sell cars to a growing middle-class, leading to the development of the Toyota Corolla, which became the world's all-time best-selling automobile. The booming economy also funded an international expansion that allowed\",\n",
       "  'of Toyota Industries, the company developed its first product, the Type A engine, in 1934 and its first passenger car in 1936, the Toyota AA.',\n",
       "  'Toyota Motor Corporation is a Japanese multinational automotive manufacturer headquartered in Toyota City, Aichi, Japan. It was founded by Kiichiro Toyoda and incorporated on August 28, 1937. Toyota is the largest automobile manufacturer in the world, producing about 10 million vehicles per year.',\n",
       "  'fallen far behind electric batteries in terms of adoption.',\n",
       "  'a 3.8% stake in Yamaha Motor Corporation, and a 2.8% stake in Panasonic, as well as stakes in vehicle manufacturing joint-ventures in China (FAW Toyota and GAC Toyota), the Czech Republic (TPCA), India (Toyota Kirloskar).',\n",
       "  \"The company was originally founded as a spinoff of Toyota Industries, a machine maker started by Sakichi Toyoda, Kiichiro's father. Both companies are now part of the Toyota Group, one of the largest conglomerates in the world. While still a department of Toyota Industries, the company developed\"],\n",
       " 'uris': None,\n",
       " 'data': None}"
      ]
     },
     "execution_count": 31,
     "metadata": {},
     "output_type": "execute_result"
    }
   ],
   "source": [
    "collection_name = \"kkf720f983d2110356c6679e28a2e2423712c191dc4e384840d2a725a46b0b7\"\n",
    "collection = CHROMA_CLIENT.get_collection(name=collection_name)\n",
    "collection.get()"
   ]
  },
  {
   "cell_type": "code",
   "execution_count": 5,
   "metadata": {},
   "outputs": [
    {
     "name": "stderr",
     "output_type": "stream",
     "text": [
      "WARNING:chromadb.segment.impl.vector.local_persistent_hnsw:Number of requested results 4 is greater than number of elements in index 1, updating n_results = 1\n"
     ]
    }
   ],
   "source": [
    "from langchain import hub\n",
    "from langchain_core.output_parsers import StrOutputParser\n",
    "from langchain_core.runnables import RunnablePassthrough\n",
    "\n",
    "retriever = langchain_chroma.as_retriever()\n",
    "\n",
    "prompt = hub.pull(\"rlm/rag-prompt\")\n",
    "\n",
    "query = \"summarize the content in 20 words\"\n",
    "\n",
    "\n",
    "def format_docs(docs):\n",
    "    return \"\\n\\n\".join(doc.page_content for doc in docs)\n",
    "\n",
    "\n",
    "rag_chain = (\n",
    "    {\"context\": retriever | format_docs, \"question\": RunnablePassthrough()}\n",
    "    | prompt\n",
    "    | llm\n",
    "    | StrOutputParser()\n",
    ")\n",
    "context = rag_chain.invoke(query)"
   ]
  },
  {
   "cell_type": "code",
   "execution_count": 6,
   "metadata": {},
   "outputs": [
    {
     "name": "stdout",
     "output_type": "stream",
     "text": [
      "Tesla Motors is an American electric sports car manufacturer known for its Tesla Roadster, which offers high performance and range. The company also planned to offer solar-photovoltaic systems for home charging, making it \"energy positive.\" The Roadster prototypes were introduced in July 2006, with the first production models planned for summer 2007.\n"
     ]
    }
   ],
   "source": [
    "print(context)"
   ]
  }
 ],
 "metadata": {
  "kernelspec": {
   "display_name": "openWebUiDemo",
   "language": "python",
   "name": "python3"
  },
  "language_info": {
   "codemirror_mode": {
    "name": "ipython",
    "version": 3
   },
   "file_extension": ".py",
   "mimetype": "text/x-python",
   "name": "python",
   "nbconvert_exporter": "python",
   "pygments_lexer": "ipython3",
   "version": "3.11.9"
  }
 },
 "nbformat": 4,
 "nbformat_minor": 2
}
